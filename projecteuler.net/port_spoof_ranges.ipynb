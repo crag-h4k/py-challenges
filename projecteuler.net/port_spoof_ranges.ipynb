{
 "cells": [
  {
   "cell_type": "code",
   "execution_count": 1,
   "metadata": {},
   "outputs": [
    {
     "name": "stdout",
     "output_type": "stream",
     "text": [
      "['2280', '50', '80', '22']\n"
     ]
    }
   ],
   "source": [
    "max_port = 65355\n",
    "cli_input = '2280 50 80 22'\n",
    "allowed = cli_input.split(' ')\n",
    "print(allowed)"
   ]
  },
  {
   "cell_type": "code",
   "execution_count": 2,
   "metadata": {},
   "outputs": [
    {
     "name": "stdout",
     "output_type": "stream",
     "text": [
      "[2280, 50, 80, 22]\n"
     ]
    }
   ],
   "source": [
    "int_allowed_ports = []\n",
    "for i in allowed:\n",
    "    int_allowed_ports.append(int(i))\n",
    "print(int_allowed_ports)"
   ]
  },
  {
   "cell_type": "code",
   "execution_count": 3,
   "metadata": {},
   "outputs": [
    {
     "name": "stdout",
     "output_type": "stream",
     "text": [
      "[22, 50, 80, 2280]\n"
     ]
    }
   ],
   "source": [
    "sorted_ports = sorted(int_allowed_ports)\n",
    "print(sorted_ports)"
   ]
  },
  {
   "cell_type": "code",
   "execution_count": 4,
   "metadata": {},
   "outputs": [
    {
     "name": "stdout",
     "output_type": "stream",
     "text": [
      "['1:21', '23:49', '51:79', '81:2279', '2281:65355']\n"
     ]
    }
   ],
   "source": [
    "j = 0\n",
    "#pairs will end up as an array of strings; such as '1:21' or '23:79'\n",
    "pairs = []\n",
    "for i in sorted_ports:\n",
    "    if j == 0:\n",
    "        # the first port range in a sorted port list will always be 1\n",
    "        start = 1\n",
    "    else:\n",
    "        # looks at the last node in the list then adds one to it,\n",
    "        start = sorted_ports[j-1] + 1\n",
    "    end = i - 1\n",
    "    j += 1\n",
    "    formatted = str(start) + ':' + str(end)\n",
    "    pairs.append(formatted)\n",
    "    \n",
    "    #check to see if we are on the last element of the list,\n",
    "    #then adds the last port range here\n",
    "    if i == sorted_ports[-1]:\n",
    "        start = i + 1\n",
    "        end = max_port\n",
    "        formatted = str(start) + ':' + str(end)\n",
    "        pairs.append(formatted)\n",
    "        \n",
    "print(pairs)"
   ]
  },
  {
   "cell_type": "code",
   "execution_count": 5,
   "metadata": {},
   "outputs": [
    {
     "name": "stdout",
     "output_type": "stream",
     "text": [
      "1:21 23:49 51:79 81:2279 2281:65355\n"
     ]
    }
   ],
   "source": [
    "print(' '.join(pairs))"
   ]
  },
  {
   "cell_type": "code",
   "execution_count": 8,
   "metadata": {},
   "outputs": [],
   "source": [
    "#returns a string port range list, such as: '1:21 23:49 51:79 81:2279 2281:65355'\n",
    "def make_port_ranges(cli_inputted_ports):\n",
    "    \n",
    "    max_port = 65355\n",
    "    allowed = cli_inputted_ports.split(' ')\n",
    "    int_allowed_ports = []\n",
    "    \n",
    "    for i in allowed:\n",
    "        int_allowed_ports.append(int(i))\n",
    "    \n",
    "    sorted_ports = sorted(int_allowed_ports)\n",
    "    # need a counter to keep track of where a range starts and ends\n",
    "    j = 0\n",
    "    #pairs will end up as an array of strings; such as '1:21' or '23:79'\n",
    "    pairs = []\n",
    "    for i in sorted_ports:\n",
    "        # the first port range in a sorted port list will always be 1\n",
    "        if j == 0:\n",
    "            start = 1\n",
    "        # looks at the last node in the list then adds one to it,\n",
    "        else:\n",
    "            start = sorted_ports[j-1] + 1\n",
    "        end = i - 1\n",
    "        j += 1\n",
    "        formatted = str(start) + ':' + str(end)\n",
    "        pairs.append(formatted)\n",
    "        \n",
    "        #check to see if we are on the last element of the list,\n",
    "        #then adds the last port range here       \n",
    "        if i == sorted_ports[-1]:\n",
    "            start = i + 1\n",
    "            end = max_port\n",
    "            formatted = str(start) + ':' + str(end)\n",
    "            pairs.append(formatted)\n",
    "            \n",
    "    return ' '.join(pairs)\n",
    "\n"
   ]
  },
  {
   "cell_type": "code",
   "execution_count": 9,
   "metadata": {},
   "outputs": [
    {
     "name": "stdout",
     "output_type": "stream",
     "text": [
      "1:21 23:49 51:79 81:2279 2281:65355\n"
     ]
    }
   ],
   "source": [
    "cli_input = '2280 50 80 22'\n",
    "port_spoof_ranges = make_port_ranges(cli_input)\n",
    "print(port_spoof_ranges)"
   ]
  },
  {
   "cell_type": "code",
   "execution_count": null,
   "metadata": {},
   "outputs": [],
   "source": []
  }
 ],
 "metadata": {
  "kernelspec": {
   "display_name": "Python 3",
   "language": "python",
   "name": "python3"
  },
  "language_info": {
   "codemirror_mode": {
    "name": "ipython",
    "version": 3
   },
   "file_extension": ".py",
   "mimetype": "text/x-python",
   "name": "python",
   "nbconvert_exporter": "python",
   "pygments_lexer": "ipython3",
   "version": "3.7.2"
  }
 },
 "nbformat": 4,
 "nbformat_minor": 2
}
